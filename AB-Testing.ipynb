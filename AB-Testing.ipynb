{
 "cells": [
  {
   "cell_type": "code",
   "execution_count": 3,
   "id": "c7be7bf0-203d-49b6-8da4-93e5aaa729f7",
   "metadata": {},
   "outputs": [
    {
     "name": "stdout",
     "output_type": "stream",
     "text": [
      "Saved ab_onboarding_full.csv\n",
      "variant\n",
      "A    1000\n",
      "B    1000\n",
      "Name: count, dtype: int64\n"
     ]
    }
   ],
   "source": [
    "import numpy as np, pandas as pd\n",
    "rng = np.random.default_rng(42)\n",
    "\n",
    "def synth(n_per_group=1000, pA=0.18, uplift_abs=0.02):\n",
    "    countries = [\"US\",\"IN\",\"CA\"]; cp = [0.6, 0.3, 0.1]\n",
    "    devices = [\"iOS\",\"Android\"];  dp = [0.4, 0.6]\n",
    "\n",
    "    def gen(prefix, n, base_p):\n",
    "        d = pd.DataFrame({\n",
    "            \"user_id\": [f\"{prefix}_{i}\" for i in range(n)],\n",
    "            \"variant\": prefix,\n",
    "            \"country\": rng.choice(countries, size=n, p=cp),\n",
    "            \"device\":  rng.choice(devices,  size=n, p=dp),\n",
    "        })\n",
    "        adj = (d.country.eq(\"US\").astype(int)*0.01\n",
    "               - d.device.eq(\"Android\").astype(int)*0.015)\n",
    "        p = np.clip(base_p + adj, 0.01, 0.95)\n",
    "        d[\"activated\"] = rng.binomial(1, p)\n",
    "        return d\n",
    "\n",
    "    return pd.concat([gen(\"A\", n_per_group, pA),\n",
    "                      gen(\"B\", n_per_group, pA + uplift_abs)], ignore_index=True)\n",
    "\n",
    "df = synth()\n",
    "df.to_csv(\"ab_onboarding_full.csv\", index=False)\n",
    "print(\"Saved ab_onboarding_full.csv\")\n",
    "print(df[\"variant\"].value_counts())"
   ]
  },
  {
   "cell_type": "code",
   "execution_count": 4,
   "id": "6c0891b3-36cf-47df-8221-01d2fe5f8749",
   "metadata": {},
   "outputs": [
    {
     "data": {
      "text/plain": [
       "(variant\n",
       " A    1000\n",
       " B    1000\n",
       " Name: count, dtype: int64,\n",
       " (2000, 5))"
      ]
     },
     "execution_count": 4,
     "metadata": {},
     "output_type": "execute_result"
    }
   ],
   "source": [
    "import pandas as pd\n",
    "df = pd.read_csv(\"ab_onboarding_full.csv\")\n",
    "df[\"variant\"].value_counts(), df.shape"
   ]
  },
  {
   "cell_type": "code",
   "execution_count": 5,
   "id": "d13e6ae2-49f8-4eef-833c-e35ceeaa2081",
   "metadata": {},
   "outputs": [
    {
     "name": "stdout",
     "output_type": "stream",
     "text": [
      "File location: /Users/shauryadityasingh/Downloads/ab_onboarding_full.csv\n",
      "\n",
      "First 10 rows:\n",
      "  user_id variant country   device  activated\n",
      "0     A_0       A      IN      iOS          1\n",
      "1     A_1       A      US  Android          0\n",
      "2     A_2       A      IN      iOS          1\n",
      "3     A_3       A      IN      iOS          0\n",
      "4     A_4       A      US  Android          0\n",
      "5     A_5       A      CA      iOS          1\n",
      "6     A_6       A      IN  Android          0\n",
      "7     A_7       A      IN      iOS          0\n",
      "8     A_8       A      US  Android          0\n",
      "9     A_9       A      US  Android          0\n"
     ]
    }
   ],
   "source": [
    "import os\n",
    "\n",
    "# 1. Absolute file path\n",
    "print(\"File location:\", os.path.abspath(\"ab_onboarding_full.csv\"))\n",
    "\n",
    "# 2. Preview first 10 rows\n",
    "print(\"\\nFirst 10 rows:\")\n",
    "print(df.head(10))"
   ]
  },
  {
   "cell_type": "code",
   "execution_count": 6,
   "id": "d841eae7-a196-470b-8250-49cbad942bb5",
   "metadata": {},
   "outputs": [
    {
     "name": "stdout",
     "output_type": "stream",
     "text": [
      "Unique variants: ['A' 'B']\n",
      "\n",
      "Missing values:\n",
      " user_id      0\n",
      "variant      0\n",
      "country      0\n",
      "device       0\n",
      "activated    0\n",
      "dtype: int64\n",
      "\n",
      "By country:\n",
      " variant  country\n",
      "A        CA          98\n",
      "         IN         299\n",
      "         US         603\n",
      "B        CA         103\n",
      "         IN         292\n",
      "         US         605\n",
      "dtype: int64\n",
      "\n",
      "By device:\n",
      " variant  device \n",
      "A        Android    613\n",
      "         iOS        387\n",
      "B        Android    583\n",
      "         iOS        417\n",
      "dtype: int64\n"
     ]
    }
   ],
   "source": [
    "# Only A/B variants?\n",
    "print(\"Unique variants:\", df[\"variant\"].unique())\n",
    "\n",
    "# Any missing values?\n",
    "print(\"\\nMissing values:\\n\", df.isna().sum())\n",
    "\n",
    "# Rough slice counts (country x variant)\n",
    "print(\"\\nBy country:\\n\", df.groupby(['variant','country']).size())\n",
    "\n",
    "# Rough slice counts (device x variant)\n",
    "print(\"\\nBy device:\\n\", df.groupby(['variant','device']).size())"
   ]
  },
  {
   "cell_type": "code",
   "execution_count": 7,
   "id": "e7cc5087-3290-4305-834a-c8228b1ed1c9",
   "metadata": {},
   "outputs": [
    {
     "name": "stdout",
     "output_type": "stream",
     "text": [
      "         activation_rate  success     n\n",
      "variant                                \n",
      "A                  0.171      171  1000\n",
      "B                  0.189      189  1000\n",
      "pA=0.171, pB=0.189, uplift_abs=0.018\n"
     ]
    }
   ],
   "source": [
    "conv = (df.groupby('variant')['activated']\n",
    "          .agg(['mean','sum','count'])\n",
    "          .rename(columns={'mean':'activation_rate', 'sum':'success', 'count':'n'}))\n",
    "print(conv)\n",
    "\n",
    "# Grab numbers for A and B\n",
    "success_A = int(conv.loc['A','success'])\n",
    "n_A       = int(conv.loc['A','n'])\n",
    "success_B = int(conv.loc['B','success'])\n",
    "n_B       = int(conv.loc['B','n'])\n",
    "\n",
    "pA = success_A / n_A\n",
    "pB = success_B / n_B\n",
    "print(f\"pA={pA:.3f}, pB={pB:.3f}, uplift_abs={pB-pA:.3f}\")"
   ]
  },
  {
   "cell_type": "code",
   "execution_count": 8,
   "id": "37253165-48dc-459d-869d-0f090a414dce",
   "metadata": {},
   "outputs": [
    {
     "name": "stdout",
     "output_type": "stream",
     "text": [
      "z = 1.05, p-value = 0.2948\n"
     ]
    }
   ],
   "source": [
    "from math import sqrt\n",
    "from scipy.stats import norm\n",
    "\n",
    "# Values from Step 3\n",
    "success_A, n_A = 171, 1000\n",
    "success_B, n_B = 189, 1000\n",
    "pA, pB = success_A/n_A, success_B/n_B\n",
    "\n",
    "# Pooled proportion\n",
    "p_pool = (success_A + success_B) / (n_A + n_B)\n",
    "se = sqrt(p_pool * (1 - p_pool) * (1/n_A + 1/n_B))\n",
    "\n",
    "# z-statistic and p-value\n",
    "z = (pB - pA) / se\n",
    "p_value = 2 * (1 - norm.cdf(abs(z)))\n",
    "\n",
    "print(f\"z = {z:.2f}, p-value = {p_value:.4f}\")"
   ]
  },
  {
   "cell_type": "code",
   "execution_count": 9,
   "id": "86a64db2-8f4f-4b73-854c-e322dcc47edd",
   "metadata": {},
   "outputs": [
    {
     "name": "stdout",
     "output_type": "stream",
     "text": [
      "A 95% CI: [0.149, 0.196]  |  B 95% CI: [0.166, 0.214]\n"
     ]
    }
   ],
   "source": [
    "def wilson_ci(success, n, alpha=0.05):\n",
    "    if n == 0:\n",
    "        return (0.0, 0.0)\n",
    "    z = norm.ppf(1 - alpha/2)\n",
    "    p = success / n\n",
    "    denom = 1 + z*z/n\n",
    "    center = (p + z*z/(2*n)) / denom\n",
    "    half = z * sqrt((p*(1-p) + z*z/(4*n))/n) / denom\n",
    "    return center - half, center + half\n",
    "\n",
    "ciA = wilson_ci(success_A, n_A)\n",
    "ciB = wilson_ci(success_B, n_B)\n",
    "print(f\"A 95% CI: [{ciA[0]:.3f}, {ciA[1]:.3f}]  |  B 95% CI: [{ciB[0]:.3f}, {ciB[1]:.3f}]\")"
   ]
  },
  {
   "cell_type": "code",
   "execution_count": 10,
   "id": "97fe383a-de36-4ce7-a8f4-210dbe14b04c",
   "metadata": {},
   "outputs": [
    {
     "data": {
      "image/png": "[encoded data removed]",
      "text/plain": [
       "<Figure size 500x400 with 1 Axes>"
      ]
     },
     "metadata": {},
     "output_type": "display_data"
    }
   ],
   "source": [
    "import numpy as np\n",
    "import matplotlib.pyplot as plt\n",
    "from math import sqrt\n",
    "from scipy.stats import norm\n",
    "\n",
    "success_A, n_A = 171, 1000\n",
    "success_B, n_B = 189, 1000\n",
    "pA, pB = success_A/n_A, success_B/n_B\n",
    "\n",
    "def wilson_ci(success, n, alpha=0.05):\n",
    "    z = norm.ppf(1 - alpha/2); p = success/n\n",
    "    denom = 1 + z*z/n\n",
    "    center = (p + z*z/(2*n)) / denom\n",
    "    half = z * sqrt((p*(1-p) + z*z/(4*n))/n) / denom\n",
    "    return center - half, center + half\n",
    "\n",
    "ciA = wilson_ci(success_A, n_A)\n",
    "ciB = wilson_ci(success_B, n_B)\n",
    "\n",
    "labels = np.array(['A','B'])\n",
    "rates  = np.array([pA, pB], dtype=float)\n",
    "yerr = np.vstack([[pA - ciA[0], pB - ciB[0]],\n",
    "                  [ciA[1] - pA, ciB[1] - pB]]).astype(float)\n",
    "\n",
    "plt.figure(figsize=(5,4))\n",
    "plt.bar(labels, rates, yerr=yerr, capsize=6)\n",
    "plt.ylabel('Activation rate')\n",
    "plt.title('Activation by Variant (95% CI)')\n",
    "plt.ylim(0, float(max(rates) + 0.1))\n",
    "plt.show()"
   ]
  },
  {
   "cell_type": "code",
   "execution_count": 11,
   "id": "a25bd936-8bda-41f3-a17f-cdfba28ce875",
   "metadata": {},
   "outputs": [
    {
     "name": "stdout",
     "output_type": "stream",
     "text": [
      "Required sample size per group (80% power, 5% alpha): 7147 users\n"
     ]
    }
   ],
   "source": [
    "import numpy as np\n",
    "from statsmodels.stats.power import NormalIndPower\n",
    "\n",
    "# baseline and target rates\n",
    "pA = 0.171\n",
    "pB = 0.189\n",
    "alpha = 0.05\n",
    "power = 0.8\n",
    "\n",
    "# manual Cohen's h\n",
    "def proportion_effectsize(p1, p2):\n",
    "    return 2 * (np.arcsin(np.sqrt(p1)) - np.arcsin(np.sqrt(p2)))\n",
    "\n",
    "effect_size = proportion_effectsize(pA, pB)\n",
    "\n",
    "analysis = NormalIndPower()\n",
    "required_n = analysis.solve_power(effect_size=abs(effect_size), power=power, alpha=alpha, ratio=1)\n",
    "\n",
    "print(f\"Required sample size per group (80% power, 5% alpha): {int(required_n)} users\")"
   ]
  },
  {
   "cell_type": "code",
   "execution_count": 12,
   "id": "26f1eb37-f777-45ed-99c1-8c37b9882add",
   "metadata": {},
   "outputs": [
    {
     "data": {
      "image/png": "[encoded data removed]",
      "text/plain": [
       "<Figure size 600x400 with 1 Axes>"
      ]
     },
     "metadata": {},
     "output_type": "display_data"
    }
   ],
   "source": [
    "import numpy as np\n",
    "import matplotlib.pyplot as plt\n",
    "from statsmodels.stats.power import NormalIndPower\n",
    "\n",
    "pA = 0.171\n",
    "alpha = 0.05\n",
    "power = 0.80\n",
    "\n",
    "def proportion_effectsize(p1, p2):\n",
    "    return 2 * (np.arcsin(np.sqrt(p1)) - np.arcsin(np.sqrt(p2)))\n",
    "\n",
    "mdes = np.linspace(0.005, 0.05, 20)  # 0.5 pp to 5.0 pp\n",
    "n_per_group = []\n",
    "analysis = NormalIndPower()\n",
    "\n",
    "for mde in mdes:\n",
    "    pB = pA + mde\n",
    "    h = abs(proportion_effectsize(pA, pB))\n",
    "    n = analysis.solve_power(effect_size=h, power=power, alpha=alpha, ratio=1)\n",
    "    n_per_group.append(n)\n",
    "\n",
    "plt.figure(figsize=(6,4))\n",
    "plt.plot(mdes*100, n_per_group, marker='o')\n",
    "plt.xlabel(\"MDE (absolute pp)\")\n",
    "plt.ylabel(\"Required sample per group\")\n",
    "plt.title(\"Power curve (α=0.05, 80% power, baseline 17.1%)\")\n",
    "plt.grid(True, linestyle=\"--\", alpha=0.4)\n",
    "plt.show()"
   ]
  },
  {
   "cell_type": "code",
   "execution_count": null,
   "id": "da837d34-ef72-4715-8ac1-644f955dd3fb",
   "metadata": {},
   "outputs": [],
   "source": []
  }
 ],
 "metadata": {
  "kernelspec": {
   "display_name": "abtest311 (py3.11)",
   "language": "python",
   "name": "abtest311"
  },
  "language_info": {
   "codemirror_mode": {
    "name": "ipython",
    "version": 3
   },
   "file_extension": ".py",
   "mimetype": "text/x-python",
   "name": "python",
   "nbconvert_exporter": "python",
   "pygments_lexer": "ipython3",
   "version": "3.11.13"
  }
 },
 "nbformat": 4,
 "nbformat_minor": 5
}
